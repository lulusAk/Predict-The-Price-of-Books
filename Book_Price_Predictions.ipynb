{
  "nbformat": 4,
  "nbformat_minor": 0,
  "metadata": {
    "colab": {
      "name": "Book Price Predictions.ipynb",
      "provenance": [],
      "authorship_tag": "ABX9TyM35CTCGXZw+RVB5S4JVwX2",
      "include_colab_link": true
    },
    "kernelspec": {
      "name": "python3",
      "display_name": "Python 3"
    },
    "language_info": {
      "name": "python"
    }
  },
  "cells": [
    {
      "cell_type": "markdown",
      "metadata": {
        "id": "view-in-github",
        "colab_type": "text"
      },
      "source": [
        "<a href=\"https://colab.research.google.com/github/lulusAk/Predict-The-Price-of-Books/blob/main/Book_Price_Predictions.ipynb\" target=\"_parent\"><img src=\"https://colab.research.google.com/assets/colab-badge.svg\" alt=\"Open In Colab\"/></a>"
      ]
    },
    {
      "cell_type": "code",
      "source": [
        "%load_ext rpy2.ipython"
      ],
      "metadata": {
        "id": "BM2ZT9bQcWQI"
      },
      "execution_count": 6,
      "outputs": []
    },
    {
      "cell_type": "code",
      "source": [
        "%%R\n",
        "library(tidyverse)\n",
        "library(readxl)"
      ],
      "metadata": {
        "id": "8R6veQZgd0tp"
      },
      "execution_count": 11,
      "outputs": []
    },
    {
      "cell_type": "code",
      "source": [
        "%%R\n",
        "train <- read_excel(\"/content/Data_Train.xlsx\")"
      ],
      "metadata": {
        "id": "2-aDVfj-cAV6"
      },
      "execution_count": 12,
      "outputs": []
    },
    {
      "cell_type": "code",
      "source": [
        "%%R\n",
        "head(train)"
      ],
      "metadata": {
        "colab": {
          "base_uri": "https://localhost:8080/"
        },
        "id": "GWIHac8FcKvp",
        "outputId": "9f6f4325-8210-4cb4-c474-63cf761102c5"
      },
      "execution_count": 24,
      "outputs": [
        {
          "output_type": "stream",
          "name": "stdout",
          "text": [
            "# A tibble: 6 × 9\n",
            "  Title         Author Edition Reviews Ratings Synopsis Genre BookCategory Price\n",
            "  <chr>         <chr>  <chr>   <chr>   <chr>   <chr>    <chr> <chr>        <dbl>\n",
            "1 The Prisoner… Chris… Paperb… 4.0 ou… 8 cust… \"THE HU… Acti… Action & Ad…  220 \n",
            "2 Guru Dutt: A… Arun … Paperb… 3.9 ou… 14 cus… \"A laye… Cine… Biographies…  203.\n",
            "3 Leviathan (P… Thoma… Paperb… 4.8 ou… 6 cust… \"\\\"Duri… Inte… Humour        299 \n",
            "4 A Pocket Ful… Agath… Paperb… 4.1 ou… 13 cus… \"A hand… Cont… Crime, Thri…  180 \n",
            "5 LIFE 70 Year… Edito… Hardco… 5.0 ou… 1 cust… \"For se… Phot… Arts, Film …  966.\n",
            "6 ChiRunning: … Danny… Paperb… 4.5 ou… 8 cust… \"The re… Heal… Sports        900 \n"
          ]
        }
      ]
    },
    {
      "cell_type": "code",
      "source": [
        "%%R\n",
        "str(train)"
      ],
      "metadata": {
        "colab": {
          "base_uri": "https://localhost:8080/"
        },
        "id": "c7eA2hH8fS-y",
        "outputId": "796e34fe-9f78-4ac2-be9e-28be88c93847"
      },
      "execution_count": 26,
      "outputs": [
        {
          "output_type": "stream",
          "name": "stdout",
          "text": [
            "tibble [6,237 × 9] (S3: tbl_df/tbl/data.frame)\n",
            " $ Title       : chr [1:6237] \"The Prisoner's Gold (The Hunters 3)\" \"Guru Dutt: A Tragedy in Three Acts\" \"Leviathan (Penguin Classics)\" \"A Pocket Full of Rye (Miss Marple)\" ...\n",
            " $ Author      : chr [1:6237] \"Chris Kuzneski\" \"Arun Khopkar\" \"Thomas Hobbes\" \"Agatha Christie\" ...\n",
            " $ Edition     : chr [1:6237] \"Paperback,– 10 Mar 2016\" \"Paperback,– 7 Nov 2012\" \"Paperback,– 25 Feb 1982\" \"Paperback,– 5 Oct 2017\" ...\n",
            " $ Reviews     : chr [1:6237] \"4.0 out of 5 stars\" \"3.9 out of 5 stars\" \"4.8 out of 5 stars\" \"4.1 out of 5 stars\" ...\n",
            " $ Ratings     : chr [1:6237] \"8 customer reviews\" \"14 customer reviews\" \"6 customer reviews\" \"13 customer reviews\" ...\n",
            " $ Synopsis    : chr [1:6237] \"THE HUNTERS return in their third brilliant novel from the Sunday Times Top Ten bestselling author Chris Kuznes\"| __truncated__ \"A layered portrait of a troubled genius for whom art was not merely a thing of beauty but a vital part of livin\"| __truncated__ \"\\\"During the time men live without a common Power to keep them all in awe, they are in that condition which is \"| __truncated__ \"A handful of grain is found in the pocket of a murdered businessman…\\n\\nRex Fortescue, king of a financial empi\"| __truncated__ ...\n",
            " $ Genre       : chr [1:6237] \"Action & Adventure (Books)\" \"Cinema & Broadcast (Books)\" \"International Relations\" \"Contemporary Fiction (Books)\" ...\n",
            " $ BookCategory: chr [1:6237] \"Action & Adventure\" \"Biographies, Diaries & True Accounts\" \"Humour\" \"Crime, Thriller & Mystery\" ...\n",
            " $ Price       : num [1:6237] 220 203 299 180 966 ...\n"
          ]
        }
      ]
    }
  ]
}